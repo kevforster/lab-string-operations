{
 "cells": [
  {
   "cell_type": "markdown",
   "metadata": {},
   "source": [
    "# Before your start:\n",
    "- Read the README.md file\n",
    "- Comment as much as you can and use the resources in the README.md file\n",
    "- Happy learning!"
   ]
  },
  {
   "cell_type": "code",
   "execution_count": 1,
   "metadata": {},
   "outputs": [],
   "source": [
    "import re"
   ]
  },
  {
   "cell_type": "markdown",
   "metadata": {},
   "source": [
    "# Challenge 1 - Combining Strings\n",
    "\n",
    "Combining strings is an important skill to acquire. There are multiple ways of combining strings in Python, as well as combining strings with variables. We will explore this in the first challenge. In the cell below, combine the strings in the list and add spaces between the strings (do not add a space after the last string). Insert a period after the last string."
   ]
  },
  {
   "cell_type": "code",
   "execution_count": 5,
   "metadata": {},
   "outputs": [
    {
     "name": "stdout",
     "output_type": "stream",
     "text": [
      "13\n",
      "Durante un tiempo no estuvo segura de si su marido era su marido.\n"
     ]
    }
   ],
   "source": [
    "str_list = ['Durante', 'un', 'tiempo', 'no', 'estuvo', 'segura', 'de', 'si', 'su', 'marido', 'era', 'su', 'marido']\n",
    "# Your code here:\n",
    "print(len(str_list))\n",
    "print(str_list[0]+\" \"+str_list[1]+\" \"+str_list[2]+\" \"+str_list[3]+\" \"+str_list[4]+\" \"+str_list[5]+\" \"+str_list[6]+\" \"+str_list[7]+\" \"+str_list[8]+\" \"+str_list[9]+\" \"+str_list[10]+\" \"+str_list[11]+\" \"+str_list[12]+\".\")\n",
    "# any other ways to do this? with a loop not possible i guess\n"
   ]
  },
  {
   "cell_type": "markdown",
   "metadata": {},
   "source": [
    "In the cell below, use the list of strings to create a grocery list. Start the list with the string `Grocery list: ` and include a comma and a space between each item except for the last one. Include a period at the end. Only include foods in the list that start with the letter 'b' and ensure all foods are lower case."
   ]
  },
  {
   "cell_type": "code",
   "execution_count": 42,
   "metadata": {},
   "outputs": [
    {
     "name": "stdout",
     "output_type": "stream",
     "text": [
      "['bananas', 'bread', 'brownie mix', 'broccoli']\n",
      "4\n",
      "Grocery list: bananas, bread, brownie mix, broccoli.\n"
     ]
    }
   ],
   "source": [
    "food_list = ['Bananas', 'Chocolate', 'bread', 'diapers', 'Ice Cream', 'Brownie Mix', 'broccoli']\n",
    "# Your code here:\n",
    "\n",
    "\n",
    "food_list_lower=[]\n",
    "for y in food_list:\n",
    "    food_list_lower.append(y.lower())\n",
    "\n",
    "food_list_with_b=[]\n",
    "for x in food_list_lower:\n",
    "   if \"b\" == x[0]:\n",
    "       food_list_with_b.append(x.lower())\n",
    "        \n",
    "print(food_list_with_b)\n",
    "print(len(food_list_with_b))\n",
    "print (\"Grocery list:\"+\" \"+food_list_with_b[0]+\", \"+food_list_with_b[1]+\", \"+food_list_with_b[2]+\", \"+food_list_with_b[3]+\".\")\n",
    "        \n",
    "#how can i combine the food_list_lower directly with the result?"
   ]
  },
  {
   "cell_type": "markdown",
   "metadata": {},
   "source": [
    "In the cell below, compute the area of a circle using its radius and insert the radius and the area between `string1` and `string2`. Make sure to include spaces between the variable and the strings. \n",
    "\n",
    "Note: You can use the techniques we have learned so far or use f-strings. F-strings allow us to embed code inside strings. You can read more about f-strings [here](https://www.python.org/dev/peps/pep-0498/)."
   ]
  },
  {
   "cell_type": "code",
   "execution_count": 55,
   "metadata": {},
   "outputs": [
    {
     "name": "stdout",
     "output_type": "stream",
     "text": [
      "14.137166941154069\n",
      "The area of the circle with radius: 4.5 is: 14.137166941154069.\n"
     ]
    }
   ],
   "source": [
    "import math\n",
    "\n",
    "string1 = \"The area of the circle with radius:\"\n",
    "string2  = \"is:\"\n",
    "radius = 4.5\n",
    "pi = math.pi\n",
    "\n",
    "# Your code here:\n",
    "area = radius*pi\n",
    "print(area)\n",
    "print(f\"{string1} {radius} {string2} {area}.\")\n"
   ]
  },
  {
   "cell_type": "markdown",
   "metadata": {},
   "source": [
    "# Challenge 2 - Splitting Strings\n",
    "\n",
    "We have first looked at combining strings into one long string. There are times where we need to do the opposite and split the string into smaller components for further analysis. \n",
    "\n",
    "In the cell below, split the string into a list of strings using the space delimiter. Count the frequency of each word in the string in a dictionary. Strip the periods, line breaks and commas from the text. Make sure to remove empty strings from your dictionary."
   ]
  },
  {
   "cell_type": "code",
   "execution_count": 93,
   "metadata": {},
   "outputs": [
    {
     "name": "stdout",
     "output_type": "stream",
     "text": [
      "['Some', 'say', 'the', 'world', 'will', 'end', 'in', 'fire', 'Some', 'say', 'in', 'ice', 'From', 'what', 'I’ve', 'tasted', 'of', 'desire', 'I', 'hold', 'with', 'those', 'who', 'favor', 'fire', 'But', 'if', 'it', 'had', 'to', 'perish', 'twice', 'I', 'think', 'I', 'know', 'enough', 'of', 'hate', 'To', 'say', 'that', 'for', 'destruction', 'ice', 'Is', 'also', 'great', 'And', 'would', 'suffice']\n",
      "Frequency of Some is: 2\n",
      "Frequency of say is: 3\n",
      "Frequency of the is: 1\n",
      "Frequency of world is: 1\n",
      "Frequency of will is: 1\n",
      "Frequency of end is: 1\n",
      "Frequency of in is: 2\n",
      "Frequency of fire is: 2\n",
      "Frequency of ice is: 2\n",
      "Frequency of From is: 1\n",
      "Frequency of what is: 1\n",
      "Frequency of I’ve is: 1\n",
      "Frequency of tasted is: 1\n",
      "Frequency of of is: 2\n",
      "Frequency of desire is: 1\n",
      "Frequency of I is: 3\n",
      "Frequency of hold is: 1\n",
      "Frequency of with is: 1\n",
      "Frequency of those is: 1\n",
      "Frequency of who is: 1\n",
      "Frequency of favor is: 1\n",
      "Frequency of But is: 1\n",
      "Frequency of if is: 1\n",
      "Frequency of it is: 1\n",
      "Frequency of had is: 1\n",
      "Frequency of to is: 1\n",
      "Frequency of perish is: 1\n",
      "Frequency of twice is: 1\n",
      "Frequency of think is: 1\n",
      "Frequency of know is: 1\n",
      "Frequency of enough is: 1\n",
      "Frequency of hate is: 1\n",
      "Frequency of To is: 1\n",
      "Frequency of that is: 1\n",
      "Frequency of for is: 1\n",
      "Frequency of destruction is: 1\n",
      "Frequency of Is is: 1\n",
      "Frequency of also is: 1\n",
      "Frequency of great is: 1\n",
      "Frequency of And is: 1\n",
      "Frequency of would is: 1\n",
      "Frequency of suffice is: 1\n"
     ]
    }
   ],
   "source": [
    "poem = \"\"\"Some say the world will end in fire,\n",
    "Some say in ice.\n",
    "From what I’ve tasted of desire\n",
    "I hold with those who favor fire.\n",
    "But if it had to perish twice,\n",
    "I think I know enough of hate\n",
    "To say that for destruction ice\n",
    "Is also great\n",
    "And would suffice.\"\"\"\n",
    "\n",
    "# Your code here:\n",
    "\n",
    "new_poem_without_period=poem.replace(\".\",\" \")\n",
    "new_poem_without_period_comma=new_poem_without_period.replace(\",\",\" \")\n",
    " \n",
    "cleaned_list=[]\n",
    "for x in new_poem_without_period_comma.split():\n",
    "    cleaned_list.append(x)\n",
    "    \n",
    "print(cleaned_list)\n",
    "\n",
    "cleaned_list_unique=[]\n",
    "for i in cleaned_list:\n",
    "    if i not in cleaned_list_unique:\n",
    "        cleaned_list_unique.append(i)\n",
    "        \n",
    "for i in range (0, len(cleaned_list_unique)):\n",
    "    print (\"Frequency of\", cleaned_list_unique[i], \"is:\", cleaned_list.count(cleaned_list_unique[i]))\n",
    "    "
   ]
  },
  {
   "cell_type": "markdown",
   "metadata": {},
   "source": [
    "In the cell below, find all the words that appear in the text and do not appear in the blacklist. You must parse the string but can choose any data structure you wish for the words that do not appear in the blacklist. Remove all non letter characters and convert all words to lower case."
   ]
  },
  {
   "cell_type": "code",
   "execution_count": 98,
   "metadata": {},
   "outputs": [
    {
     "name": "stdout",
     "output_type": "stream",
     "text": [
      "['i', 'was', 'angry', 'with', 'my', 'friend;', 'i', 'told', 'my', 'wrath', 'my', 'wrath', 'did', 'end', 'i', 'was', 'angry', 'with', 'my', 'foe:', 'i', 'told', 'not', 'my', 'wrath', 'did', 'grow', 'i', 'waterd', 'fears', 'night', '&', 'morning', 'with', 'my', 'tears:', 'i', 'sunned', 'with', 'smiles', 'with', 'soft', 'deceitful', 'wiles', 'grew', 'both', 'day', 'night', 'till', 'bore', 'apple', 'bright', 'my', 'foe', 'beheld', 'shine', 'he', 'knew', 'that', 'was', 'mine', 'into', 'my', 'garden', 'stole', 'when', 'night', 'had', 'veild', 'pole;', 'morning', 'glad', 'i', 'see;', 'my', 'foe', 'outstretched', 'beneath', 'tree']\n"
     ]
    }
   ],
   "source": [
    "blacklist = ['and', 'as', 'an', 'a', 'the', 'in', 'it']\n",
    "\n",
    "poem = \"\"\"I was angry with my friend; \n",
    "I told my wrath, my wrath did end.\n",
    "I was angry with my foe: \n",
    "I told it not, my wrath did grow. \n",
    "\n",
    "And I waterd it in fears,\n",
    "Night & morning with my tears: \n",
    "And I sunned it with smiles,\n",
    "And with soft deceitful wiles. \n",
    "\n",
    "And it grew both day and night. \n",
    "Till it bore an apple bright. \n",
    "And my foe beheld it shine,\n",
    "And he knew that it was mine. \n",
    "\n",
    "And into my garden stole, \n",
    "When the night had veild the pole; \n",
    "In the morning glad I see; \n",
    "My foe outstretched beneath the tree.\"\"\"\n",
    "\n",
    "# Your code here:\n",
    "\n",
    "new_poem_without_period=poem.replace(\".\",\" \")\n",
    "new_poem_without_period_comma=new_poem_without_period.replace(\",\",\" \")\n",
    " \n",
    "cleaned_list=[]\n",
    "for x in new_poem_without_period_comma.split():\n",
    "    cleaned_list.append(x.lower())\n",
    "    \n",
    "\n",
    "\n",
    "cleaned_list_without_blacklist=[]\n",
    "for i in cleaned_list:\n",
    "    if i not in blacklist:\n",
    "        cleaned_list_without_blacklist.append(i)\n",
    "        \n",
    "print(cleaned_list_without_blacklist)\n",
    "\n",
    "\n",
    "\n"
   ]
  },
  {
   "cell_type": "markdown",
   "metadata": {},
   "source": [
    "# Challenge 3 - Regular Expressions\n",
    "\n",
    "Sometimes, we would like to perform more complex manipulations of our string. This is where regular expressions come in handy. In the cell below, return all characters that are upper case from the string specified below."
   ]
  },
  {
   "cell_type": "code",
   "execution_count": 2,
   "metadata": {},
   "outputs": [
    {
     "data": {
      "text/plain": [
       "['T', 'P']"
      ]
     },
     "execution_count": 2,
     "metadata": {},
     "output_type": "execute_result"
    }
   ],
   "source": [
    "poem = \"\"\"The apparition of these faces in the crowd;\n",
    "Petals on a wet, black bough.\"\"\"\n",
    "\n",
    "# Your code here:\n",
    "import re\n",
    "pattern='[A-Z]'\n",
    "re.findall(pattern,poem)\n"
   ]
  },
  {
   "cell_type": "markdown",
   "metadata": {},
   "source": [
    "In the cell below, filter the list provided and return all elements of the list containing a number. To filter the list, use the `re.search` function. Check if the function does not return `None`. You can read more about the `re.search` function [here](https://docs.python.org/3/library/re.html)."
   ]
  },
  {
   "cell_type": "code",
   "execution_count": 30,
   "metadata": {},
   "outputs": [
    {
     "name": "stdout",
     "output_type": "stream",
     "text": [
      "123abc\n",
      "abc123\n",
      "JohnSmith1\n",
      "ABBY4\n"
     ]
    }
   ],
   "source": [
    "import re\n",
    "data = ['123abc', 'abc123', 'JohnSmith1', 'ABBY4', 'JANE']\n",
    "\n",
    "# Your code here:\n",
    "\n",
    "for x in data:\n",
    "    y=re.search(\"\\d\", x)\n",
    "    if y!=None:\n",
    "        print (y.string)\n",
    "    \n"
   ]
  },
  {
   "cell_type": "markdown",
   "metadata": {},
   "source": [
    "# Bonus Challenge - Regular Expressions II\n",
    "\n",
    "In the cell below, filter the list provided to keep only strings containing at least one digit and at least one lower case letter. As in the previous question, use the `re.search` function and check that the result is not `None`.\n",
    "\n",
    "To read more about regular expressions, check out [this link](https://developers.google.com/edu/python/regular-expressions)."
   ]
  },
  {
   "cell_type": "code",
   "execution_count": 9,
   "metadata": {},
   "outputs": [],
   "source": [
    "data = ['123abc', 'abc123', 'JohnSmith1', 'ABBY4', 'JANE']\n",
    "\n",
    "# Your code here:\n"
   ]
  }
 ],
 "metadata": {
  "file_extension": ".py",
  "kernelspec": {
   "display_name": "Python 3",
   "language": "python",
   "name": "python3"
  },
  "language_info": {
   "codemirror_mode": {
    "name": "ipython",
    "version": 3
   },
   "file_extension": ".py",
   "mimetype": "text/x-python",
   "name": "python",
   "nbconvert_exporter": "python",
   "pygments_lexer": "ipython3",
   "version": "3.7.3"
  },
  "mimetype": "text/x-python",
  "name": "python",
  "npconvert_exporter": "python",
  "pygments_lexer": "ipython3",
  "version": 3
 },
 "nbformat": 4,
 "nbformat_minor": 2
}
